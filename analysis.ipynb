{
 "cells": [
  {
   "cell_type": "code",
   "execution_count": 4,
   "id": "fe49e1ec-6e3e-4527-9f8b-6309af94b3d1",
   "metadata": {},
   "outputs": [],
   "source": [
    "from pathlib import Path\n",
    "\n",
    "import pandas as pd"
   ]
  },
  {
   "cell_type": "code",
   "execution_count": 5,
   "id": "96fa4ad4-c79b-475d-9018-65af6f2fccb7",
   "metadata": {},
   "outputs": [],
   "source": [
    "data_root = Path('./data')"
   ]
  },
  {
   "cell_type": "code",
   "execution_count": 7,
   "id": "999cb8ce-85ea-4581-81b7-7464d7d5fbff",
   "metadata": {},
   "outputs": [],
   "source": [
    "df_validated = pd.read_csv(data_root / 'validated.tsv', sep='\\t')"
   ]
  },
  {
   "cell_type": "code",
   "execution_count": 8,
   "id": "9812e393-e87e-4161-8d2b-2a8d05a65bba",
   "metadata": {},
   "outputs": [
    {
     "data": {
      "text/html": [
       "<div>\n",
       "<style scoped>\n",
       "    .dataframe tbody tr th:only-of-type {\n",
       "        vertical-align: middle;\n",
       "    }\n",
       "\n",
       "    .dataframe tbody tr th {\n",
       "        vertical-align: top;\n",
       "    }\n",
       "\n",
       "    .dataframe thead th {\n",
       "        text-align: right;\n",
       "    }\n",
       "</style>\n",
       "<table border=\"1\" class=\"dataframe\">\n",
       "  <thead>\n",
       "    <tr style=\"text-align: right;\">\n",
       "      <th></th>\n",
       "      <th>client_id</th>\n",
       "      <th>path</th>\n",
       "      <th>sentence</th>\n",
       "      <th>up_votes</th>\n",
       "      <th>down_votes</th>\n",
       "      <th>age</th>\n",
       "      <th>gender</th>\n",
       "      <th>accents</th>\n",
       "      <th>variant</th>\n",
       "      <th>locale</th>\n",
       "      <th>segment</th>\n",
       "    </tr>\n",
       "  </thead>\n",
       "  <tbody>\n",
       "    <tr>\n",
       "      <th>0</th>\n",
       "      <td>01e92accf4513140ba6edfc77bc323202437605d2ded09...</td>\n",
       "      <td>common_voice_hy-AM_31719719.mp3</td>\n",
       "      <td>Միջպետական հարաբերություններում կարևոր դեր էին...</td>\n",
       "      <td>2</td>\n",
       "      <td>0</td>\n",
       "      <td>NaN</td>\n",
       "      <td>NaN</td>\n",
       "      <td>NaN</td>\n",
       "      <td>NaN</td>\n",
       "      <td>hy-AM</td>\n",
       "      <td>NaN</td>\n",
       "    </tr>\n",
       "    <tr>\n",
       "      <th>1</th>\n",
       "      <td>0acba0aee6846f49f72adcf35fda7bcd4f9d016d05680a...</td>\n",
       "      <td>common_voice_hy-AM_39566466.mp3</td>\n",
       "      <td>Նրա երգերը դեռևս հայտնի էին եգիպտացիների շրջան...</td>\n",
       "      <td>2</td>\n",
       "      <td>0</td>\n",
       "      <td>NaN</td>\n",
       "      <td>NaN</td>\n",
       "      <td>NaN</td>\n",
       "      <td>NaN</td>\n",
       "      <td>hy-AM</td>\n",
       "      <td>NaN</td>\n",
       "    </tr>\n",
       "    <tr>\n",
       "      <th>2</th>\n",
       "      <td>18f0d70e98efaefeb7260444a70d3f154abc1934f7f7b7...</td>\n",
       "      <td>common_voice_hy-AM_39520095.mp3</td>\n",
       "      <td>Եղել է տաղանդավոր մանկավարժ նորարար։</td>\n",
       "      <td>2</td>\n",
       "      <td>0</td>\n",
       "      <td>NaN</td>\n",
       "      <td>NaN</td>\n",
       "      <td>NaN</td>\n",
       "      <td>NaN</td>\n",
       "      <td>hy-AM</td>\n",
       "      <td>NaN</td>\n",
       "    </tr>\n",
       "    <tr>\n",
       "      <th>3</th>\n",
       "      <td>1e36f592ddcea64771f3cd7d026394f43b5e959be77326...</td>\n",
       "      <td>common_voice_hy-AM_39548912.mp3</td>\n",
       "      <td>Վերջնական բացատրություն դեռևս չի հայտնաբերվել։</td>\n",
       "      <td>2</td>\n",
       "      <td>0</td>\n",
       "      <td>twenties</td>\n",
       "      <td>female</td>\n",
       "      <td>NaN</td>\n",
       "      <td>NaN</td>\n",
       "      <td>hy-AM</td>\n",
       "      <td>NaN</td>\n",
       "    </tr>\n",
       "    <tr>\n",
       "      <th>4</th>\n",
       "      <td>25f83284bed72c2475ea1caef4e996e86646f7395182ff...</td>\n",
       "      <td>common_voice_hy-AM_31719990.mp3</td>\n",
       "      <td>Տեղի կլիման արևադարձային է։</td>\n",
       "      <td>2</td>\n",
       "      <td>0</td>\n",
       "      <td>NaN</td>\n",
       "      <td>NaN</td>\n",
       "      <td>NaN</td>\n",
       "      <td>NaN</td>\n",
       "      <td>hy-AM</td>\n",
       "      <td>NaN</td>\n",
       "    </tr>\n",
       "  </tbody>\n",
       "</table>\n",
       "</div>"
      ],
      "text/plain": [
       "                                           client_id  \\\n",
       "0  01e92accf4513140ba6edfc77bc323202437605d2ded09...   \n",
       "1  0acba0aee6846f49f72adcf35fda7bcd4f9d016d05680a...   \n",
       "2  18f0d70e98efaefeb7260444a70d3f154abc1934f7f7b7...   \n",
       "3  1e36f592ddcea64771f3cd7d026394f43b5e959be77326...   \n",
       "4  25f83284bed72c2475ea1caef4e996e86646f7395182ff...   \n",
       "\n",
       "                              path  \\\n",
       "0  common_voice_hy-AM_31719719.mp3   \n",
       "1  common_voice_hy-AM_39566466.mp3   \n",
       "2  common_voice_hy-AM_39520095.mp3   \n",
       "3  common_voice_hy-AM_39548912.mp3   \n",
       "4  common_voice_hy-AM_31719990.mp3   \n",
       "\n",
       "                                            sentence  up_votes  down_votes  \\\n",
       "0  Միջպետական հարաբերություններում կարևոր դեր էին...         2           0   \n",
       "1  Նրա երգերը դեռևս հայտնի էին եգիպտացիների շրջան...         2           0   \n",
       "2               Եղել է տաղանդավոր մանկավարժ նորարար։         2           0   \n",
       "3     Վերջնական բացատրություն դեռևս չի հայտնաբերվել։         2           0   \n",
       "4                        Տեղի կլիման արևադարձային է։         2           0   \n",
       "\n",
       "        age  gender accents  variant locale  segment  \n",
       "0       NaN     NaN     NaN      NaN  hy-AM      NaN  \n",
       "1       NaN     NaN     NaN      NaN  hy-AM      NaN  \n",
       "2       NaN     NaN     NaN      NaN  hy-AM      NaN  \n",
       "3  twenties  female     NaN      NaN  hy-AM      NaN  \n",
       "4       NaN     NaN     NaN      NaN  hy-AM      NaN  "
      ]
     },
     "execution_count": 8,
     "metadata": {},
     "output_type": "execute_result"
    }
   ],
   "source": [
    "df_validated.head()"
   ]
  },
  {
   "cell_type": "code",
   "execution_count": null,
   "id": "c87d463e-5b21-43bd-b875-fe76959fa5ce",
   "metadata": {},
   "outputs": [],
   "source": []
  },
  {
   "cell_type": "code",
   "execution_count": 10,
   "id": "2ca7f3fe-e1c4-4ea8-b5f2-842385182f5b",
   "metadata": {},
   "outputs": [
    {
     "data": {
      "text/plain": [
       "gender\n",
       "female    5298\n",
       "male      2153\n",
       "other       23\n",
       "Name: count, dtype: int64"
      ]
     },
     "execution_count": 10,
     "metadata": {},
     "output_type": "execute_result"
    }
   ],
   "source": [
    "df_validated['gender'].value_counts()"
   ]
  },
  {
   "cell_type": "code",
   "execution_count": 11,
   "id": "1cf95d3c-bf1d-4381-b278-53f0a500df8c",
   "metadata": {},
   "outputs": [
    {
     "data": {
      "text/plain": [
       "up_votes\n",
       "2     6255\n",
       "4     1902\n",
       "6      584\n",
       "3      578\n",
       "9       29\n",
       "8       20\n",
       "12       2\n",
       "Name: count, dtype: int64"
      ]
     },
     "execution_count": 11,
     "metadata": {},
     "output_type": "execute_result"
    }
   ],
   "source": [
    "df_validated['up_votes'].value_counts()"
   ]
  },
  {
   "cell_type": "code",
   "execution_count": 12,
   "id": "110239c6-b327-451a-9aab-41088e49da42",
   "metadata": {},
   "outputs": [
    {
     "data": {
      "text/plain": [
       "down_votes\n",
       "0    8750\n",
       "1     497\n",
       "2     109\n",
       "3      14\n",
       "Name: count, dtype: int64"
      ]
     },
     "execution_count": 12,
     "metadata": {},
     "output_type": "execute_result"
    }
   ],
   "source": [
    "df_validated['down_votes'].value_counts()"
   ]
  },
  {
   "cell_type": "code",
   "execution_count": 13,
   "id": "e648faf9-204f-4215-8ad3-0fe27dffac4a",
   "metadata": {},
   "outputs": [],
   "source": [
    "df_clip_durations = pd.read_csv(data_root / 'clip_durations.tsv', sep='\\t')"
   ]
  },
  {
   "cell_type": "code",
   "execution_count": 14,
   "id": "1f3460ba-7b18-44d7-8815-dee6247226cf",
   "metadata": {},
   "outputs": [
    {
     "data": {
      "text/html": [
       "<div>\n",
       "<style scoped>\n",
       "    .dataframe tbody tr th:only-of-type {\n",
       "        vertical-align: middle;\n",
       "    }\n",
       "\n",
       "    .dataframe tbody tr th {\n",
       "        vertical-align: top;\n",
       "    }\n",
       "\n",
       "    .dataframe thead th {\n",
       "        text-align: right;\n",
       "    }\n",
       "</style>\n",
       "<table border=\"1\" class=\"dataframe\">\n",
       "  <thead>\n",
       "    <tr style=\"text-align: right;\">\n",
       "      <th></th>\n",
       "      <th>clip</th>\n",
       "      <th>duration[ms]</th>\n",
       "    </tr>\n",
       "  </thead>\n",
       "  <tbody>\n",
       "    <tr>\n",
       "      <th>0</th>\n",
       "      <td>common_voice_hy-AM_26674192.mp3</td>\n",
       "      <td>6336</td>\n",
       "    </tr>\n",
       "    <tr>\n",
       "      <th>1</th>\n",
       "      <td>common_voice_hy-AM_39445447.mp3</td>\n",
       "      <td>5760</td>\n",
       "    </tr>\n",
       "    <tr>\n",
       "      <th>2</th>\n",
       "      <td>common_voice_hy-AM_39514563.mp3</td>\n",
       "      <td>4860</td>\n",
       "    </tr>\n",
       "    <tr>\n",
       "      <th>3</th>\n",
       "      <td>common_voice_hy-AM_39481522.mp3</td>\n",
       "      <td>4860</td>\n",
       "    </tr>\n",
       "    <tr>\n",
       "      <th>4</th>\n",
       "      <td>common_voice_hy-AM_39494968.mp3</td>\n",
       "      <td>5256</td>\n",
       "    </tr>\n",
       "    <tr>\n",
       "      <th>...</th>\n",
       "      <td>...</td>\n",
       "      <td>...</td>\n",
       "    </tr>\n",
       "    <tr>\n",
       "      <th>15622</th>\n",
       "      <td>common_voice_hy-AM_31107900.mp3</td>\n",
       "      <td>10512</td>\n",
       "    </tr>\n",
       "    <tr>\n",
       "      <th>15623</th>\n",
       "      <td>common_voice_hy-AM_39494147.mp3</td>\n",
       "      <td>4536</td>\n",
       "    </tr>\n",
       "    <tr>\n",
       "      <th>15624</th>\n",
       "      <td>common_voice_hy-AM_26175356.mp3</td>\n",
       "      <td>8388</td>\n",
       "    </tr>\n",
       "    <tr>\n",
       "      <th>15625</th>\n",
       "      <td>common_voice_hy-AM_39552719.mp3</td>\n",
       "      <td>3636</td>\n",
       "    </tr>\n",
       "    <tr>\n",
       "      <th>15626</th>\n",
       "      <td>common_voice_hy-AM_39534705.mp3</td>\n",
       "      <td>5940</td>\n",
       "    </tr>\n",
       "  </tbody>\n",
       "</table>\n",
       "<p>15627 rows × 2 columns</p>\n",
       "</div>"
      ],
      "text/plain": [
       "                                  clip  duration[ms]\n",
       "0      common_voice_hy-AM_26674192.mp3          6336\n",
       "1      common_voice_hy-AM_39445447.mp3          5760\n",
       "2      common_voice_hy-AM_39514563.mp3          4860\n",
       "3      common_voice_hy-AM_39481522.mp3          4860\n",
       "4      common_voice_hy-AM_39494968.mp3          5256\n",
       "...                                ...           ...\n",
       "15622  common_voice_hy-AM_31107900.mp3         10512\n",
       "15623  common_voice_hy-AM_39494147.mp3          4536\n",
       "15624  common_voice_hy-AM_26175356.mp3          8388\n",
       "15625  common_voice_hy-AM_39552719.mp3          3636\n",
       "15626  common_voice_hy-AM_39534705.mp3          5940\n",
       "\n",
       "[15627 rows x 2 columns]"
      ]
     },
     "execution_count": 14,
     "metadata": {},
     "output_type": "execute_result"
    }
   ],
   "source": [
    "df_clip_durations"
   ]
  },
  {
   "cell_type": "code",
   "execution_count": 21,
   "id": "95fdd129-823b-4a4e-a613-d3926f4c78ef",
   "metadata": {},
   "outputs": [],
   "source": [
    "df_validated_durations = pd.merge(df_validated, df_clip_durations, how='inner', left_on='path', right_on='clip')"
   ]
  },
  {
   "cell_type": "code",
   "execution_count": 22,
   "id": "e49e08e3-bd41-4b01-990f-43ac066ccd6c",
   "metadata": {},
   "outputs": [
    {
     "data": {
      "text/html": [
       "<div>\n",
       "<style scoped>\n",
       "    .dataframe tbody tr th:only-of-type {\n",
       "        vertical-align: middle;\n",
       "    }\n",
       "\n",
       "    .dataframe tbody tr th {\n",
       "        vertical-align: top;\n",
       "    }\n",
       "\n",
       "    .dataframe thead th {\n",
       "        text-align: right;\n",
       "    }\n",
       "</style>\n",
       "<table border=\"1\" class=\"dataframe\">\n",
       "  <thead>\n",
       "    <tr style=\"text-align: right;\">\n",
       "      <th></th>\n",
       "      <th>client_id</th>\n",
       "      <th>path</th>\n",
       "      <th>sentence</th>\n",
       "      <th>up_votes</th>\n",
       "      <th>down_votes</th>\n",
       "      <th>age</th>\n",
       "      <th>gender</th>\n",
       "      <th>accents</th>\n",
       "      <th>variant</th>\n",
       "      <th>locale</th>\n",
       "      <th>segment</th>\n",
       "      <th>clip</th>\n",
       "      <th>duration[ms]</th>\n",
       "    </tr>\n",
       "  </thead>\n",
       "  <tbody>\n",
       "    <tr>\n",
       "      <th>0</th>\n",
       "      <td>01e92accf4513140ba6edfc77bc323202437605d2ded09...</td>\n",
       "      <td>common_voice_hy-AM_31719719.mp3</td>\n",
       "      <td>Միջպետական հարաբերություններում կարևոր դեր էին...</td>\n",
       "      <td>2</td>\n",
       "      <td>0</td>\n",
       "      <td>NaN</td>\n",
       "      <td>NaN</td>\n",
       "      <td>NaN</td>\n",
       "      <td>NaN</td>\n",
       "      <td>hy-AM</td>\n",
       "      <td>NaN</td>\n",
       "      <td>common_voice_hy-AM_31719719.mp3</td>\n",
       "      <td>7200</td>\n",
       "    </tr>\n",
       "    <tr>\n",
       "      <th>1</th>\n",
       "      <td>0acba0aee6846f49f72adcf35fda7bcd4f9d016d05680a...</td>\n",
       "      <td>common_voice_hy-AM_39566466.mp3</td>\n",
       "      <td>Նրա երգերը դեռևս հայտնի էին եգիպտացիների շրջան...</td>\n",
       "      <td>2</td>\n",
       "      <td>0</td>\n",
       "      <td>NaN</td>\n",
       "      <td>NaN</td>\n",
       "      <td>NaN</td>\n",
       "      <td>NaN</td>\n",
       "      <td>hy-AM</td>\n",
       "      <td>NaN</td>\n",
       "      <td>common_voice_hy-AM_39566466.mp3</td>\n",
       "      <td>7236</td>\n",
       "    </tr>\n",
       "    <tr>\n",
       "      <th>2</th>\n",
       "      <td>18f0d70e98efaefeb7260444a70d3f154abc1934f7f7b7...</td>\n",
       "      <td>common_voice_hy-AM_39520095.mp3</td>\n",
       "      <td>Եղել է տաղանդավոր մանկավարժ նորարար։</td>\n",
       "      <td>2</td>\n",
       "      <td>0</td>\n",
       "      <td>NaN</td>\n",
       "      <td>NaN</td>\n",
       "      <td>NaN</td>\n",
       "      <td>NaN</td>\n",
       "      <td>hy-AM</td>\n",
       "      <td>NaN</td>\n",
       "      <td>common_voice_hy-AM_39520095.mp3</td>\n",
       "      <td>5040</td>\n",
       "    </tr>\n",
       "    <tr>\n",
       "      <th>3</th>\n",
       "      <td>1e36f592ddcea64771f3cd7d026394f43b5e959be77326...</td>\n",
       "      <td>common_voice_hy-AM_39548912.mp3</td>\n",
       "      <td>Վերջնական բացատրություն դեռևս չի հայտնաբերվել։</td>\n",
       "      <td>2</td>\n",
       "      <td>0</td>\n",
       "      <td>twenties</td>\n",
       "      <td>female</td>\n",
       "      <td>NaN</td>\n",
       "      <td>NaN</td>\n",
       "      <td>hy-AM</td>\n",
       "      <td>NaN</td>\n",
       "      <td>common_voice_hy-AM_39548912.mp3</td>\n",
       "      <td>5544</td>\n",
       "    </tr>\n",
       "    <tr>\n",
       "      <th>4</th>\n",
       "      <td>25f83284bed72c2475ea1caef4e996e86646f7395182ff...</td>\n",
       "      <td>common_voice_hy-AM_31719990.mp3</td>\n",
       "      <td>Տեղի կլիման արևադարձային է։</td>\n",
       "      <td>2</td>\n",
       "      <td>0</td>\n",
       "      <td>NaN</td>\n",
       "      <td>NaN</td>\n",
       "      <td>NaN</td>\n",
       "      <td>NaN</td>\n",
       "      <td>hy-AM</td>\n",
       "      <td>NaN</td>\n",
       "      <td>common_voice_hy-AM_31719990.mp3</td>\n",
       "      <td>4608</td>\n",
       "    </tr>\n",
       "  </tbody>\n",
       "</table>\n",
       "</div>"
      ],
      "text/plain": [
       "                                           client_id  \\\n",
       "0  01e92accf4513140ba6edfc77bc323202437605d2ded09...   \n",
       "1  0acba0aee6846f49f72adcf35fda7bcd4f9d016d05680a...   \n",
       "2  18f0d70e98efaefeb7260444a70d3f154abc1934f7f7b7...   \n",
       "3  1e36f592ddcea64771f3cd7d026394f43b5e959be77326...   \n",
       "4  25f83284bed72c2475ea1caef4e996e86646f7395182ff...   \n",
       "\n",
       "                              path  \\\n",
       "0  common_voice_hy-AM_31719719.mp3   \n",
       "1  common_voice_hy-AM_39566466.mp3   \n",
       "2  common_voice_hy-AM_39520095.mp3   \n",
       "3  common_voice_hy-AM_39548912.mp3   \n",
       "4  common_voice_hy-AM_31719990.mp3   \n",
       "\n",
       "                                            sentence  up_votes  down_votes  \\\n",
       "0  Միջպետական հարաբերություններում կարևոր դեր էին...         2           0   \n",
       "1  Նրա երգերը դեռևս հայտնի էին եգիպտացիների շրջան...         2           0   \n",
       "2               Եղել է տաղանդավոր մանկավարժ նորարար։         2           0   \n",
       "3     Վերջնական բացատրություն դեռևս չի հայտնաբերվել։         2           0   \n",
       "4                        Տեղի կլիման արևադարձային է։         2           0   \n",
       "\n",
       "        age  gender accents  variant locale  segment  \\\n",
       "0       NaN     NaN     NaN      NaN  hy-AM      NaN   \n",
       "1       NaN     NaN     NaN      NaN  hy-AM      NaN   \n",
       "2       NaN     NaN     NaN      NaN  hy-AM      NaN   \n",
       "3  twenties  female     NaN      NaN  hy-AM      NaN   \n",
       "4       NaN     NaN     NaN      NaN  hy-AM      NaN   \n",
       "\n",
       "                              clip  duration[ms]  \n",
       "0  common_voice_hy-AM_31719719.mp3          7200  \n",
       "1  common_voice_hy-AM_39566466.mp3          7236  \n",
       "2  common_voice_hy-AM_39520095.mp3          5040  \n",
       "3  common_voice_hy-AM_39548912.mp3          5544  \n",
       "4  common_voice_hy-AM_31719990.mp3          4608  "
      ]
     },
     "execution_count": 22,
     "metadata": {},
     "output_type": "execute_result"
    }
   ],
   "source": [
    "df_validated_durations.head()"
   ]
  },
  {
   "cell_type": "code",
   "execution_count": 28,
   "id": "3e6074fe-5d8d-4a5d-b347-7c41c3724a38",
   "metadata": {},
   "outputs": [
    {
     "name": "stdout",
     "output_type": "stream",
     "text": [
      "total audio duration:  14.258120000000002 hours\n"
     ]
    }
   ],
   "source": [
    "print('total audio duration: ', df_validated_durations['duration[ms]'].sum() / 1000 / 3600, 'hours')"
   ]
  },
  {
   "cell_type": "code",
   "execution_count": 29,
   "id": "5866ceb2-04ab-4cae-a8eb-9890bd0ea740",
   "metadata": {},
   "outputs": [],
   "source": [
    "df_my_train = pd.read_csv(data_root / 'my_train.tsv', sep='\\t')\n",
    "df_my_val = pd.read_csv(data_root / 'my_val.tsv', sep='\\t')"
   ]
  },
  {
   "cell_type": "code",
   "execution_count": 30,
   "id": "7624bc08-fda6-4367-a138-b61a793c2fe2",
   "metadata": {},
   "outputs": [],
   "source": [
    "df_my_train_durations = pd.merge(df_my_train, df_clip_durations, how='inner', left_on='path', right_on='clip')\n",
    "df_my_val_durations = pd.merge(df_my_val, df_clip_durations, how='inner', left_on='path', right_on='clip')"
   ]
  },
  {
   "cell_type": "code",
   "execution_count": 31,
   "id": "f8cec740-7927-4fcd-9512-a527e362c0b3",
   "metadata": {},
   "outputs": [
    {
     "name": "stdout",
     "output_type": "stream",
     "text": [
      "total train audio duration:  13.48951 hours\n"
     ]
    }
   ],
   "source": [
    "print('total train audio duration: ', df_my_train_durations['duration[ms]'].sum() / 1000 / 3600, 'hours')"
   ]
  },
  {
   "cell_type": "code",
   "execution_count": 32,
   "id": "5a993bee-eba1-4e34-be88-9334bbcf8dd3",
   "metadata": {},
   "outputs": [
    {
     "name": "stdout",
     "output_type": "stream",
     "text": [
      "total val audio duration:  0.76861 hours\n"
     ]
    }
   ],
   "source": [
    "print('total val audio duration: ', df_my_val_durations['duration[ms]'].sum() / 1000 / 3600, 'hours')"
   ]
  },
  {
   "cell_type": "code",
   "execution_count": 34,
   "id": "120ec876-5b49-40c5-a1bc-cd2836bedf40",
   "metadata": {},
   "outputs": [
    {
     "name": "stdout",
     "output_type": "stream",
     "text": [
      "all duration:  23.603360000000002 hours\n"
     ]
    }
   ],
   "source": [
    "print('all duration: ', df_clip_durations['duration[ms]'].sum() / 1000 / 3600, 'hours')"
   ]
  },
  {
   "cell_type": "code",
   "execution_count": null,
   "id": "d30ac464-6e41-4b67-9c7e-b18f0509c325",
   "metadata": {},
   "outputs": [],
   "source": []
  }
 ],
 "metadata": {
  "kernelspec": {
   "display_name": "Python 3 (ipykernel)",
   "language": "python",
   "name": "python3"
  },
  "language_info": {
   "codemirror_mode": {
    "name": "ipython",
    "version": 3
   },
   "file_extension": ".py",
   "mimetype": "text/x-python",
   "name": "python",
   "nbconvert_exporter": "python",
   "pygments_lexer": "ipython3",
   "version": "3.9.5"
  }
 },
 "nbformat": 4,
 "nbformat_minor": 5
}
